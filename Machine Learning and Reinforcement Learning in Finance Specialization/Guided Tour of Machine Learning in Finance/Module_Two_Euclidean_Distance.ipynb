{
  "cells": [
    {
      "cell_type": "markdown",
      "metadata": {
        "id": "view-in-github",
        "colab_type": "text"
      },
      "source": [
        "<a href=\"https://colab.research.google.com/github/PCeltide/Coursera/blob/main/Machine%20Learning%20and%20Reinforcement%20Learning%20in%20Finance%20Specialization/Guided%20Tour%20of%20Machine%20Learning%20in%20Finance/Module_Two_Euclidean_Distance.ipynb\" target=\"_parent\"><img src=\"https://colab.research.google.com/assets/colab-badge.svg\" alt=\"Open In Colab\"/></a>"
      ]
    },
    {
      "cell_type": "markdown",
      "metadata": {
        "collapsed": true,
        "id": "PmeI5H9VQqjE"
      },
      "source": [
        "# Euclidean Distance"
      ]
    },
    {
      "cell_type": "markdown",
      "metadata": {
        "collapsed": true,
        "id": "CGeN0SRcQqjF"
      },
      "source": [
        "## Dataset\n",
        "Suppose we have a $n$ dimensional space $\\mathbb{R}^{n}$, we want to generate $1000000$ pairs of uniformly distributed random\n",
        "numbers $X\\sim\\mathscr{U}\\left(0,\\:1\\right)$.\n",
        "\n",
        "For instance, if $n=1$, we generate $p_{1}=\\left(x_{1},\\:y_{1}\\right)$, $p_{2}=\\left(x_{2},\\:y_{2}\\right)$, $\\cdots$, $p_{1000000}=\\left(x_{1000000},\\:y_{1000000}\\right)$, where $x_{1}$, $x_{2}$, $\\cdots$, $x_{1000000}$ are uniformly distributed, $y_{1}$, $y_{2}$, $\\cdots$, $y_{1000000}$ are uniformly distributed too.\n",
        "\n",
        "If $n=2$, we generate $\\mathbf{p}_{1}=\\left(\\mathbf{x}_{1},\\:\\mathbf{y}_{1}\\right)$, where $\\mathbf{x}_{1}=\\left(x_{1}^{\\left(1\\right)},\\:x_{1}^{\\left(2\\right)}\\right)$ and $\\mathbf{y}_{1}=\\left(y_{1}^{\\left(1\\right)},\\:y_{1}^{\\left(2\\right)}\\right)$, $\\mathbf{p}_{2}=\\left(\\mathbf{x}_{2},\\:\\mathbf{y}_{2}\\right)$, where $\\mathbf{x}_{2}=\\left(x_{2}^{\\left(1\\right)},\\:x_{2}^{\\left(2\\right)}\\right)$ and $\\mathbf{y}_{2}=\\left(y_{2}^{\\left(1\\right)},\\:y_{2}^{\\left(2\\right)}\\right)$, $\\cdots$, $\\mathbf{p}_{1000000}=\\left(\\mathbf{x}_{1000000},\\:\\mathbf{y}_{1000000}\\right)$, where $\\mathbf{x}_{1000000}=\\left(x_{1000000}^{\\left(1\\right)},\\:x_{1000000}^{\\left(2\\right)}\\right)$ and $\\mathbf{y}_{1000000}=\\left(y_{1000000}^{\\left(1\\right)},\\:y_{1000000}^{\\left(2\\right)}\\right)$, and $x_{1}^{\\left(1\\right)}$, $x_{2}^{\\left(1\\right)}$, $\\cdots$, $x_{1000000}^{\\left(1\\right)}$ are uniformly distributed, $x_{1}^{\\left(2\\right)}$, $x_{2}^{\\left(2\\right)}$, $\\cdots$, $x_{1000000}^{\\left(2\\right)}$ are uniformly distributed, $y_{1}^{\\left(1\\right)}$, $y_{2}^{\\left(1\\right)}$, $\\cdots$, $y_{1000000}^{\\left(1\\right)}$ are uniformly distributed, and $y_{1}^{\\left(2\\right)}$, $y_{2}^{\\left(2\\right)}$, $\\cdots$, $y_{1000000}^{\\left(2\\right)}$ are uniformly distributed too."
      ]
    },
    {
      "cell_type": "code",
      "execution_count": null,
      "metadata": {
        "collapsed": true,
        "id": "o8-MXS9hQqjG"
      },
      "outputs": [],
      "source": [
        "# imports\n",
        "import numpy as np\n",
        "import matplotlib.pyplot as plt\n",
        "# %matplotlib inline\n",
        "\n",
        "from sklearn.metrics.pairwise import euclidean_distances\n",
        "\n",
        "import sys\n",
        "sys.path.append(\"..\")\n",
        "import grading\n",
        "\n",
        "import timeit\n",
        "import matplotlib.mlab\n",
        "import scipy.stats\n",
        "from scipy.stats import norm"
      ]
    },
    {
      "cell_type": "code",
      "execution_count": null,
      "metadata": {
        "collapsed": true,
        "id": "MHvwAHExQqjH"
      },
      "outputs": [],
      "source": [
        "TIMEOUT_UPPER = 1800"
      ]
    },
    {
      "cell_type": "code",
      "execution_count": null,
      "metadata": {
        "collapsed": true,
        "id": "oZRGjC1cQqjH"
      },
      "outputs": [],
      "source": [
        "# Given Function\n",
        "def euclidean_distances_stats(euclidean_distances_vector):\n",
        "    \"\"\"\n",
        "    Calculate Euclidean distances statistics\n",
        "\n",
        "    Arguments:\n",
        "    euclidean_distances_vector - 1-D vector of Euclidean distances\n",
        "\n",
        "    Return:\n",
        "        np.array() of length 4\n",
        "        the first element of array is the mean\n",
        "        the second element is variance\n",
        "        the third element is skew of the distribution\n",
        "        the forth element is kurtosis of the distribution\n",
        "    \"\"\"\n",
        "    if len(euclidean_distances_vector) > 0:\n",
        "        this_mean = np.mean( euclidean_distances_vector )\n",
        "        this_variance = np.var( euclidean_distances_vector )\n",
        "        this_skewness = scipy.stats.skew( euclidean_distances_vector)\n",
        "        this_kurtosis = scipy.stats.kurtosis( euclidean_distances_vector)\n",
        "        result = np.array([this_mean, this_variance, this_skewness, this_kurtosis])\n",
        "    else:\n",
        "        result = np.array([0.] * 4)\n",
        "    return result\n",
        "\n",
        "\n",
        "def print_stats(euclidean_stats):\n",
        "    \"\"\"\n",
        "    Print Euclidean distances statistics\n",
        "\n",
        "    Arguments:\n",
        "    euclidean_stats - np.array() of length 4\n",
        "        the first element of array is the mean\n",
        "        the second element is variance\n",
        "        the third element is skew of the distribution\n",
        "        the forth element is kurtusis of the distribution\n",
        "    \"\"\"\n",
        "    this_mean = euclidean_stats[0]\n",
        "    this_variance = euclidean_stats[1]\n",
        "    this_skewness = euclidean_stats[2]\n",
        "    this_kurtosis = euclidean_stats[3]\n",
        "    print( 'Expectation of Euclidean distances: ', this_mean, '\\n' )\n",
        "    print( 'Variance of Euclidean distances: ', this_variance, '\\n' )\n",
        "    print( 'Skewness of Euclidean distances: ', this_skewness, '\\n' )\n",
        "    print( 'Kurtosis of Euclidean distances: ',this_kurtosis, '\\n' )\n",
        "\n",
        "\n",
        "def plot_distribution(euclidean_distances_vector, euclidean_stats, dim_space, bins_number=30):\n",
        "    \"\"\"\n",
        "    Plot histogram of Euclidean distances against normal distribution PDF\n",
        "\n",
        "    Arguments:\n",
        "\n",
        "    euclidean_distances_vector - 1-D vector of Euclidean distances\n",
        "\n",
        "    euclidean_stats - np.array() of length 4\n",
        "        the first element of array is the mean\n",
        "        the second element is variance\n",
        "        the third element is skew of the distribution\n",
        "        the forth element is kurtusis of the distribution\n",
        "\n",
        "    dim_space - dimension of the space\n",
        "    bins_number - number of bins in the histogram\n",
        "    \"\"\"\n",
        "    # verbose, but this is for clarity\n",
        "    this_mean = euclidean_stats[0]\n",
        "    this_variance = euclidean_stats[1]\n",
        "    this_skewness = euclidean_stats[2]\n",
        "    this_kurtosis = euclidean_stats[3]\n",
        "\n",
        "    sample_size = len(euclidean_distances_vector)\n",
        "    try:\n",
        "        fig_l, ax_l = plt.subplots()\n",
        "        n_bins_l, bins_l, patches_l = ax_l.hist( euclidean_distances_vector, bins_number, normed=1 )\n",
        "        y_l = matplotlib.mlab.normpdf( bins_l, this_mean, np.sqrt( this_variance ) )\n",
        "        ax_l.plot( bins_l, y_l, 'r--' )\n",
        "        plt.title( 'Histogram for dimension = %d and sample size = %d \\n $\\mu$ = %.3f, $\\sigma^2$ = %.3f, Skewness = %.3f, Kurtosis = %.3f' \\\n",
        "                                           % (dim_space, sample_size, this_mean, this_variance, this_skewness, this_kurtosis ) )\n",
        "        fig_l.tight_layout()\n",
        "        plt.grid( True, which='both')\n",
        "        plt.minorticks_on()\n",
        "        return fig_l\n",
        "    except:\n",
        "        return None"
      ]
    },
    {
      "cell_type": "code",
      "execution_count": null,
      "metadata": {
        "scrolled": true,
        "id": "x214NBwYQqjH",
        "outputId": "5985180f-6979-4ee7-bd18-fc2036855bab"
      },
      "outputs": [
        {
          "name": "stdout",
          "output_type": "stream",
          "text": [
            "X:  [[ 0.1281527   0.90874596  0.30895767  0.55074684  0.37021404]\n",
            " [ 0.99737217  0.67418859  0.15589377  0.07779588  0.67164309]\n",
            " [ 0.28886264  0.98143785  0.24453147  0.86864977  0.22916086]\n",
            " ..., \n",
            " [ 0.15923867  0.38782267  0.80740141  0.76214834  0.63993568]\n",
            " [ 0.2720833   0.93914681  0.05687483  0.65465918  0.85339501]\n",
            " [ 0.30486807  0.26274335  0.01023201  0.51821297  0.38689877]]\n",
            "Y:  [[ 0.01564132  0.80624259  0.14556196  0.31919336  0.4873302 ]\n",
            " [ 0.39136766  0.50796378  0.66473161  0.114402    0.40721235]\n",
            " [ 0.86981803  0.96477091  0.0517566   0.69251565  0.82818192]\n",
            " ..., \n",
            " [ 0.613376    0.28887205  0.26333635  0.59140505  0.52506754]\n",
            " [ 0.50715243  0.46967336  0.39198272  0.41477971  0.84465243]\n",
            " [ 0.50855446  0.95756686  0.51458543  0.2723617   0.99904058]]\n"
          ]
        }
      ],
      "source": [
        "lower_boundary = 0\n",
        "upper_boundary = 1\n",
        "n = 5 # dimension\n",
        "sample_size = 10000\n",
        "\n",
        "X = np.random.uniform( low=lower_boundary, high=upper_boundary, size=(sample_size, n) )\n",
        "Y = np.random.uniform( low=lower_boundary, high=upper_boundary, size=(sample_size, n) )\n",
        "\n",
        "print( 'X: ', X )\n",
        "print( 'Y: ', Y )"
      ]
    },
    {
      "cell_type": "markdown",
      "metadata": {
        "id": "nN7GY0USQqjI"
      },
      "source": [
        "## Part 1\n",
        "Calculate the Euclidean distance between the two points of each pair. Do this in a loop. Hint: use sklearn to do the computation.\n",
        "\n",
        "Plot the histogram of the Euclidean distance. In a $n$ dimensional space $\\mathbb{R}^{n}$, the Euclidean distance between $\\mathbf{x}=\\left(x_{1},\\:x_{2},\\:\\cdots,\\:x_{n}\\right)$ and $\\mathbf{y}=\\left(y_{1},\\:y_{2},\\:\\cdots,\\:y_{n}\\right)$ is given\n",
        "by\n",
        "\\begin{equation}\n",
        "\\begin{aligned}d_{E}\\left(\\mathbf{p},\\:\\mathbf{q}\\right) & =\\sqrt{\\left(x_{1}-y_{1}\\right)^{2}+\\left(x_{2}-y_{2}\\right)^{2}+\\cdots+\\left(x_{n}-y_{n}\\right)^{2}}\\\\\n",
        " & =\\sqrt{\\sum_{i=1}^{n}\\left(x_{i}-y_{i}\\right)^{2}}\\\\\n",
        " & =\\left\\Vert \\mathbf{x}-\\mathbf{y}\\right\\Vert _{2}\n",
        "\\end{aligned}\n",
        "\\end{equation}"
      ]
    },
    {
      "cell_type": "code",
      "execution_count": null,
      "metadata": {
        "id": "J_gn272XQqjI",
        "outputId": "8c045fda-20a2-462b-d9cd-8507a50371de"
      },
      "outputs": [
        {
          "name": "stdout",
          "output_type": "stream",
          "text": [
            "Running time:  3.7990769509924576\n"
          ]
        }
      ],
      "source": [
        "start = timeit.default_timer()\n",
        "# Using the euclidean_distances function, we get back a N x N matrix of pairwise Euclidean Distances\n",
        "# The one we want is the diagonal\n",
        "euclidean_distances_vector_l = np.diag(euclidean_distances(X,Y))\n",
        "\n",
        "stop = timeit.default_timer()\n",
        "print( 'Running time: ', stop-start )"
      ]
    },
    {
      "cell_type": "code",
      "execution_count": null,
      "metadata": {
        "id": "7oYqJ1V7QqjI",
        "outputId": "2e4ef6e1-71c3-435a-a858-790fcc9fc8ca"
      },
      "outputs": [
        {
          "data": {
            "text/plain": [
              "array([ 0.87808254,  0.06156054, -0.05757301, -0.29055564])"
            ]
          },
          "execution_count": 6,
          "metadata": {},
          "output_type": "execute_result"
        }
      ],
      "source": [
        "result = euclidean_distances_stats(euclidean_distances_vector_l)\n",
        "result"
      ]
    },
    {
      "cell_type": "code",
      "execution_count": null,
      "metadata": {
        "id": "cB7ckwEzQqjI",
        "outputId": "a375d0f1-0098-4846-f58a-08378efc0da5"
      },
      "outputs": [
        {
          "name": "stdout",
          "output_type": "stream",
          "text": [
            "Expectation of Euclidean distances:  0.878082536155 \n",
            "\n",
            "Variance of Euclidean distances:  0.0615605438302 \n",
            "\n",
            "Skewness of Euclidean distances:  -0.0575730112866 \n",
            "\n",
            "Kurtosis of Euclidean distances:  -0.29055563764 \n",
            "\n"
          ]
        },
        {
          "data": {
            "image/png": "[encoded data removed]",
            "text/plain": [
              "<matplotlib.figure.Figure at 0x72acecb585f8>"
            ]
          },
          "metadata": {},
          "output_type": "display_data"
        }
      ],
      "source": [
        "print_stats(result)\n",
        "plot_distribution(euclidean_distances_vector_l, result, n)\n",
        "try:\n",
        "    plt.show()\n",
        "except: pass"
      ]
    },
    {
      "cell_type": "markdown",
      "metadata": {
        "id": "caGlevRpQqjJ"
      },
      "source": [
        "## Part 2\n",
        "Calculate the Euclidean distance between the two points of each pair using vectorized operations and inner product."
      ]
    },
    {
      "cell_type": "code",
      "execution_count": null,
      "metadata": {
        "id": "kH6n95yDQqjJ",
        "outputId": "ab0c9a1e-c497-4e00-a9f7-de42dbb3a0a1"
      },
      "outputs": [
        {
          "name": "stdout",
          "output_type": "stream",
          "text": [
            "Running time:  0.0009430229547433555\n"
          ]
        }
      ],
      "source": [
        "# using vectorization by calculating inner product\n",
        "start = timeit.default_timer()\n",
        "\n",
        "# We can simply use the norm instead for a faster, efficient calculation\n",
        "euclidean_distances_vector_l_vectorized = np.linalg.norm(X - Y, axis=1)\n",
        "\n",
        "stop = timeit.default_timer()\n",
        "print( 'Running time: ', stop-start )"
      ]
    },
    {
      "cell_type": "code",
      "execution_count": null,
      "metadata": {
        "id": "o9jomwzGQqjJ",
        "outputId": "465711c0-5028-41de-a770-7fb1a2d45647"
      },
      "outputs": [
        {
          "data": {
            "text/plain": [
              "array([ 0.87808254,  0.06156054, -0.05757301, -0.29055564])"
            ]
          },
          "execution_count": 9,
          "metadata": {},
          "output_type": "execute_result"
        }
      ],
      "source": [
        "result = euclidean_distances_stats(euclidean_distances_vector_l_vectorized)\n",
        "result"
      ]
    },
    {
      "cell_type": "code",
      "execution_count": null,
      "metadata": {
        "id": "eEoeSpz-QqjJ",
        "outputId": "010e9036-c8d4-4964-a25f-f23c76f87c16"
      },
      "outputs": [
        {
          "name": "stdout",
          "output_type": "stream",
          "text": [
            "Expectation of Euclidean distances:  0.878082536155 \n",
            "\n",
            "Variance of Euclidean distances:  0.0615605438302 \n",
            "\n",
            "Skewness of Euclidean distances:  -0.0575730112866 \n",
            "\n",
            "Kurtosis of Euclidean distances:  -0.29055563764 \n",
            "\n"
          ]
        }
      ],
      "source": [
        "print_stats(result)"
      ]
    },
    {
      "cell_type": "markdown",
      "metadata": {
        "id": "nSxva1ZbQqjJ"
      },
      "source": [
        "## Question 3\n",
        "We repeat question 1 and question 2 for $n=1$, $n=5$, $n=10$, $n=100$, $n=1000$, $n=5000$, and $n=10000$. Then plot the expectation and variance as a function of $n$.\n",
        "You need to generate two sets of n-dimensional samples, compute"
      ]
    },
    {
      "cell_type": "code",
      "execution_count": null,
      "metadata": {
        "collapsed": true,
        "id": "8AjC47WzQqjJ"
      },
      "outputs": [],
      "source": [
        "def VectorizationMethod(dim_space, sample_size, lower_boundary, upper_boundary, bins_number=30):\n",
        "    \"\"\"\n",
        "    Generate sample_size elements from dim_space-dimensional space. The coordinates of each element in the space\n",
        "    are sampled from uniform distribution between lower_boundary and upper_boundary\n",
        "\n",
        "    Arguments:\n",
        "\n",
        "    dim_space - dimension of the space, a positive integer\n",
        "    sample_size - number of samples in the dim_space-dimensional space\n",
        "    lower_boundary - lower boundary of coordinates sampled from U(lower_boundary, upper_boundary)\n",
        "    upper_boundary - lower boundary of coordinates sampled from U(lower_boundary, upper_boundary)\n",
        "    bins_number - number of bins to plot a histogram\n",
        "\n",
        "    stats_result - np.array() of length 4\n",
        "        the first element of array is the mean\n",
        "        the second element is variance\n",
        "        the third element is skew of the distribution\n",
        "        the forth element is kurtusis of the distribution\n",
        "    \"\"\"\n",
        "\n",
        "    # We get samples for each dimension\n",
        "    A = np.random.uniform( low=lower_boundary, high=upper_boundary, size=(sample_size, dim_space) )\n",
        "    B = np.random.uniform( low=lower_boundary, high=upper_boundary, size=(sample_size, dim_space) )\n",
        "\n",
        "    euclidean_distances_vector_v = np.linalg.norm(A - B, axis=1)\n",
        "\n",
        "    ### END CODE HERE ###\n",
        "    stats_result = euclidean_distances_stats(euclidean_distances_vector_v)\n",
        "    return tuple(stats_result.tolist())"
      ]
    },
    {
      "cell_type": "code",
      "execution_count": null,
      "metadata": {
        "id": "p7Wvw4qkQqjJ",
        "outputId": "a2f7caba-94e8-4085-e4f3-9f8e4b86e844"
      },
      "outputs": [
        {
          "name": "stdout",
          "output_type": "stream",
          "text": [
            "Calculating finished for sample size = 10000, dimension = 2\n",
            "\n",
            "Calculating finished for sample size = 10000, dimension = 5\n",
            "\n",
            "Calculating finished for sample size = 10000, dimension = 10\n",
            "\n",
            "Calculating finished for sample size = 10000, dimension = 20\n",
            "\n",
            "Calculating finished for sample size = 10000, dimension = 40\n",
            "\n",
            "Calculating finished for sample size = 10000, dimension = 60\n",
            "\n",
            "Calculating finished for sample size = 10000, dimension = 80\n",
            "\n",
            "Calculating finished for sample size = 10000, dimension = 100\n",
            "\n",
            "Calculating finished for sample size = 10000, dimension = 200\n",
            "\n",
            "Calculating finished for sample size = 10000, dimension = 400\n",
            "\n",
            "Calculating finished for sample size = 10000, dimension = 600\n",
            "\n",
            "Calculating finished for sample size = 10000, dimension = 800\n",
            "\n",
            "Calculating finished for sample size = 10000, dimension = 1000\n",
            "\n",
            "Running time:  1.5419386709691025\n"
          ]
        }
      ],
      "source": [
        "# Given Fucntion\n",
        "start = timeit.default_timer()\n",
        "\n",
        "sample_size = 10000\n",
        "lower_boundary = 0\n",
        "upper_boundary = 1\n",
        "dimension_vector = [2, 5, 10, 20, 40, 60, 80, 100, 200, 400, 600, 800, 1000]\n",
        "n_dims = len(dimension_vector)\n",
        "\n",
        "euclidean_distances_mean_vector = [np.nan] * n_dims\n",
        "euclidean_distances_variance_vector = [np.nan] * n_dims\n",
        "euclidean_distances_skewness_vector = [np.nan] * n_dims\n",
        "euclidean_distances_kurtosis_vector = [np.nan] * n_dims\n",
        "\n",
        "for idx, space_dims in enumerate(dimension_vector):\n",
        "\n",
        "    # using vectorization\n",
        "    euclidean_distances_mean, euclidean_distances_variance, euclidean_distances_skewness, euclidean_distances_kurtosis = \\\n",
        "                 VectorizationMethod( space_dims, sample_size, lower_boundary, upper_boundary )\n",
        "\n",
        "    euclidean_distances_mean_vector[idx] = euclidean_distances_mean\n",
        "    euclidean_distances_variance_vector[idx] = euclidean_distances_variance\n",
        "    euclidean_distances_skewness_vector[idx] = euclidean_distances_skewness\n",
        "    euclidean_distances_kurtosis_vector[idx] = euclidean_distances_kurtosis\n",
        "\n",
        "    print( 'Calculating finished for sample size = %d, dimension = %d\\n' %( sample_size, space_dims) )\n",
        "\n",
        "stop = timeit.default_timer()\n",
        "print( 'Running time: ', stop-start )"
      ]
    },
    {
      "cell_type": "code",
      "execution_count": null,
      "metadata": {
        "id": "XJ20xwXkQqjJ",
        "outputId": "e52a3ad3-1fce-4f55-e227-461618c971a9"
      },
      "outputs": [
        {
          "data": {
            "text/plain": [
              "[0.5210231097540792,\n",
              " 0.8781136911286529,\n",
              " 1.2682481853010867,\n",
              " 1.8137164912306238,\n",
              " 2.571573442810232,\n",
              " 3.1538909479062704,\n",
              " 3.6398527509604057,\n",
              " 4.074606897477151,\n",
              " 5.766826936614616,\n",
              " 8.160388653555474,\n",
              " 9.99808982583997,\n",
              " 11.54537979460452,\n",
              " 12.903958705492329]"
            ]
          },
          "execution_count": 13,
          "metadata": {},
          "output_type": "execute_result"
        }
      ],
      "source": [
        "euclidean_distances_mean_vector"
      ]
    },
    {
      "cell_type": "code",
      "execution_count": null,
      "metadata": {
        "id": "SbDasIkOQqjK",
        "outputId": "4eb68508-5e0a-420a-8896-47da906c3f85"
      },
      "outputs": [
        {
          "data": {
            "text/plain": [
              "[0.061204329667580215,\n",
              " 0.061202915543531196,\n",
              " 0.062471752871792637,\n",
              " 0.05849337062829725,\n",
              " 0.06002627742074167,\n",
              " 0.05874839557073257,\n",
              " 0.05898016796300599,\n",
              " 0.05728030413301467,\n",
              " 0.06081589570812216,\n",
              " 0.05738994407059563,\n",
              " 0.058568024798334284,\n",
              " 0.060296229090606286,\n",
              " 0.05852826695927087]"
            ]
          },
          "execution_count": 18,
          "metadata": {},
          "output_type": "execute_result"
        }
      ],
      "source": [
        "euclidean_distances_variance_vector"
      ]
    },
    {
      "cell_type": "code",
      "execution_count": null,
      "metadata": {
        "id": "lkYuDiTJQqjK",
        "outputId": "014dd7e1-2347-4678-cd30-e0c147f43264"
      },
      "outputs": [
        {
          "data": {
            "text/plain": [
              "[0.17776713012589057,\n",
              " -0.061170136601334614,\n",
              " -0.03856116025172629,\n",
              " -0.05484209136834022,\n",
              " -0.04923312383063614,\n",
              " 0.00948197629323254,\n",
              " -0.040877910324235524,\n",
              " -0.009484531436841671,\n",
              " 0.01769609917122802,\n",
              " -0.03268715785552144,\n",
              " -0.013442210119618722,\n",
              " 0.004858324034606821,\n",
              " -0.03709094587601927]"
            ]
          },
          "execution_count": 19,
          "metadata": {},
          "output_type": "execute_result"
        }
      ],
      "source": [
        "euclidean_distances_skewness_vector"
      ]
    },
    {
      "cell_type": "code",
      "execution_count": null,
      "metadata": {
        "id": "0Yrau_RbQqjK",
        "outputId": "b859d18a-9312-49a2-9723-96b0395581d2"
      },
      "outputs": [
        {
          "data": {
            "text/plain": [
              "[-0.6560096299514613,\n",
              " -0.3390373489792764,\n",
              " -0.13751179569153127,\n",
              " -0.0626981670753275,\n",
              " 0.050718440996087466,\n",
              " -0.09136120383971402,\n",
              " -0.02344760316607486,\n",
              " 0.016608655545412354,\n",
              " -0.027599063797072,\n",
              " 0.0038971686836495323,\n",
              " 0.07176814081430827,\n",
              " -0.030270048241212155,\n",
              " 0.04807175197190405]"
            ]
          },
          "execution_count": 20,
          "metadata": {},
          "output_type": "execute_result"
        }
      ],
      "source": [
        "euclidean_distances_kurtosis_vector"
      ]
    },
    {
      "cell_type": "code",
      "execution_count": null,
      "metadata": {
        "id": "1JUvmBjgQqjK",
        "outputId": "5952418d-b75a-4a09-bde4-040f2071a0da"
      },
      "outputs": [
        {
          "data": {
            "image/png": "[encoded data removed]",
            "text/plain": [
              "<matplotlib.figure.Figure at 0x72acec857518>"
            ]
          },
          "metadata": {},
          "output_type": "display_data"
        },
        {
          "data": {
            "image/png": "[encoded data removed]",
            "text/plain": [
              "<matplotlib.figure.Figure at 0x72acec7ac5f8>"
            ]
          },
          "metadata": {},
          "output_type": "display_data"
        },
        {
          "data": {
            "image/png": "[encoded data removed]",
            "text/plain": [
              "<matplotlib.figure.Figure at 0x72acec7925c0>"
            ]
          },
          "metadata": {},
          "output_type": "display_data"
        },
        {
          "data": {
            "image/png": "[encoded data removed]",
            "text/plain": [
              "<matplotlib.figure.Figure at 0x72ac5bc26470>"
            ]
          },
          "metadata": {},
          "output_type": "display_data"
        }
      ],
      "source": [
        "# here we plot the stats for different sample sizes\n",
        "try:\n",
        "    plt.figure()\n",
        "    plt.plot( dimension_vector, euclidean_distances_mean_vector, 'r-', marker='o' )\n",
        "    plt.grid( True, which='both')\n",
        "    plt.minorticks_on()\n",
        "    plt.title( 'Mean of Euclidean Distances Distribution' )\n",
        "    plt.xlabel( 'Dimension' )\n",
        "    plt.ylabel( 'Mean of Euclidean Distances' )\n",
        "\n",
        "    plt.figure()\n",
        "    plt.plot( dimension_vector, euclidean_distances_variance_vector, 'r-', marker='o' )\n",
        "    plt.grid( True, which='both')\n",
        "    plt.minorticks_on()\n",
        "    plt.title( 'Variance of Euclidean Distances Distribution' )\n",
        "    plt.xlabel( 'Dimension' )\n",
        "    plt.ylabel( 'Variance of Euclidean Distances' )\n",
        "\n",
        "    plt.figure()\n",
        "    plt.plot( dimension_vector, euclidean_distances_skewness_vector, 'r-', marker='o' )\n",
        "    plt.grid( True, which='both')\n",
        "    plt.minorticks_on()\n",
        "    plt.title( 'Skewness of Euclidean Distances Distribution' )\n",
        "    plt.xlabel( 'Dimension' )\n",
        "    plt.ylabel( 'Skewness of Euclidean Distances' )\n",
        "\n",
        "    plt.figure()\n",
        "    plt.plot( dimension_vector, euclidean_distances_kurtosis_vector, 'r-', marker='o' )\n",
        "    plt.grid( True, which='both')\n",
        "    plt.minorticks_on()\n",
        "    plt.title( 'Kurtosis of Euclidean Distances Distribution' )\n",
        "    plt.xlabel( 'Dimension' )\n",
        "    plt.ylabel( 'Kurtosis of Euclidean Distances' )\n",
        "\n",
        "    matplotlib.pyplot.show()\n",
        "except: pass"
      ]
    }
  ],
  "metadata": {
    "coursera": {
      "course_slug": "guided-tour-machine-learning-finance"
    },
    "kernelspec": {
      "display_name": "Python 3",
      "language": "python",
      "name": "python3"
    },
    "language_info": {
      "codemirror_mode": {
        "name": "ipython",
        "version": 3
      },
      "file_extension": ".py",
      "mimetype": "text/x-python",
      "name": "python",
      "nbconvert_exporter": "python",
      "pygments_lexer": "ipython3",
      "version": "3.6.2"
    },
    "colab": {
      "provenance": [],
      "include_colab_link": true
    }
  },
  "nbformat": 4,
  "nbformat_minor": 0
}